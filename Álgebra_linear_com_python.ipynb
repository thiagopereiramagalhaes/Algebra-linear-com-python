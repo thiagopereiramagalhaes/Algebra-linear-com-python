{
  "nbformat": 4,
  "nbformat_minor": 0,
  "metadata": {
    "colab": {
      "name": "Álgebra linear com python.ipynb",
      "provenance": [],
      "collapsed_sections": [],
      "authorship_tag": "ABX9TyM1V0U/A1HgqhBdlsjnCZSK",
      "include_colab_link": true
    },
    "kernelspec": {
      "name": "python3",
      "display_name": "Python 3"
    }
  },
  "cells": [
    {
      "cell_type": "markdown",
      "metadata": {
        "id": "view-in-github",
        "colab_type": "text"
      },
      "source": [
        "<a href=\"https://colab.research.google.com/github/thiagopereiramagalhaes/Algebra-linear-com-python/blob/main/%C3%81lgebra_linear_com_python.ipynb\" target=\"_parent\"><img src=\"https://colab.research.google.com/assets/colab-badge.svg\" alt=\"Open In Colab\"/></a>"
      ]
    },
    {
      "cell_type": "markdown",
      "metadata": {
        "id": "Mj8M0mMgsoxc"
      },
      "source": [
        "### **Thiago Pereira Magalhães**\n",
        "**GitHub:** [thiagopereiramagalhaes](https://github.com/thiagopereiramagalhaes)  \n",
        "**Linkedin:** [thiagopmagalhaes](https://www.linkedin.com/in/thiagopmagalhaes/)  \n",
        "**Portifólio:** [Portfolio](https://github.com/thiagopereiramagalhaes/Portfolio)  \n",
        "**Repositório:** [Álgebra-linear-com-python](https://github.com/thiagopereiramagalhaes/Algebra-linear-com-python)  \n",
        "\n",
        "\n",
        "\n",
        "---\n",
        "\n"
      ]
    },
    {
      "cell_type": "markdown",
      "metadata": {
        "id": "ekn3sLIBsrQ2"
      },
      "source": [
        "# Álgebra linear com python\n",
        "\n",
        "A álgebra linear utiliza alguns conceitos e estruturas fundamentais da matemática, vetores, espaços vetoriais, transformações lineares, sistemas de equações lineares e matrizes. Constitui um segmento de aprendizagem essencial para trabalhar com tratamento de dados e Machine Learning. Compreender álgebra linear melhora definitivamente a forma como desenvolvemos os modelos preditivos.\n",
        "\n",
        "<img width=\"300px\" src=\"https://upload.wikimedia.org/wikipedia/commons/thumb/2/2f/Linear_subspaces_with_shading.svg/1200px-Linear_subspaces_with_shading.svg.png\">\n",
        "<img width=\"400px\" src=\"https://i2.wp.com/www.vooo.pro/insights/wp-content/uploads/2018/05/Python_logo.png?fit=1200%2C508&ssl=1\">"
      ]
    },
    {
      "cell_type": "markdown",
      "metadata": {
        "id": "I2q-u_iStI-2"
      },
      "source": [
        "## Iniciando com matrizes\n",
        "Vamos começar entendendo o conceito de matrizes e vetores.\n",
        "\n",
        "### Matriz\n",
        "De forma simplificada, matriz é uma tabela com linhas e colunas(m x n).\n",
        "Onde m representa o número de linhas e n o número de colunas. \n",
        "```\n",
        "|0|1|2|3|\n",
        "|0|1|2|3|\n",
        "|0|1|2|3|\n",
        "```\n",
        "\n",
        "### Vetor\n",
        "E os vetores? Bom, seguindo o mesmo conceito que uma matriz, podemos definir um vetor como uma lista. \n",
        "```\n",
        "|0|1|2|3|\n",
        "```\n",
        "\n",
        "### Vetor de vetores\n",
        "O vetor de vetores muitas vezes é confundido com matriz, mas, não é, os tamanhos de cada linha ou coluna são variáveis. Uma matriz mantém tudo do mesmo tamanho. Vamos entender melhor daqui a pouco...\n",
        "\n",
        "### Matrizes retangulares\n",
        "São matrizes que possuem a quantidade de linhas e colunas diferentes umas das outras.\n",
        "*   m != n\n",
        "\n",
        "```\n",
        "|X|X|X|  \n",
        "|X|X|X|  \n",
        "|X|X|X|\n",
        "|X|X|X|\n",
        "```\n",
        "\n",
        "### Matrizes quadradas\n",
        "São as matrizes que possuem a mesma quantidade de linhas que a quantidade de colunas. \n",
        "*   m = n\n",
        "  \n",
        "```\n",
        "|X|X|X|X|\n",
        "|X|X|X|X|  \n",
        "|X|X|X|X|\n",
        "|X|X|X|X|\n",
        "```\n",
        "\n",
        "### Matrizes linhas\n",
        "Possui uma única linha (m = 1).\n",
        "\n",
        "```\n",
        "|0|1|2|3|\n",
        "```\n",
        "\n",
        "### Matrizes colunas\n",
        "Possui uma única coluna (n = 1).\n",
        "\n",
        "```\n",
        "|0|\n",
        "|1| \n",
        "|2|\n",
        "|3|\n",
        "```"
      ]
    },
    {
      "cell_type": "markdown",
      "metadata": {
        "id": "Qabdtlmqs65Y"
      },
      "source": [
        "### Diagonais\n",
        "As diagonais das matrizes possuem denominações próprias. Cada matriz que seja quadrada, possui duas diagonais, a diagonal principal e a diagonal secundaria. A diagonal que percorre da extremidade da esquerda para a direita é chamada de principal e da direita para esquerda é chamada de secundaria.\n",
        "\n",
        "*   Diagonal principal\n",
        "\n",
        "```\n",
        "|1|X|X|X|\n",
        "|X|2|X|X|  \n",
        "|X|X|3|X|\n",
        "|X|X|X|4|\n",
        "```\n",
        "\n",
        "*   Diagonal secundária\n",
        "\n",
        "```\n",
        "|X|X|X|1|\n",
        "|X|X|2|X|  \n",
        "|X|3|X|X|\n",
        "|4|X|X|X|\n",
        "```\n",
        "\n",
        "### Matriz triangular inferior\n",
        "As matrizes triangulares são matrizes quadradas, ou seja, possuem diagonais. A triangular inferior é dividida pela sua diagonal principal. Formando dois triângulos, um, na sua parte superior com todos os valores vazios e outro na parte inferior com todos os seus respectivos valores. \n",
        "\n",
        "```\n",
        "|1|0|0|0|\n",
        "|1|2|0|0|  \n",
        "|1|2|3|0|\n",
        "|1|2|3|4|\n",
        "```\n",
        "### Matriz triangular superior\n",
        "A matriz triangular superior segue a mesma estrutura padronizada da inferior, com algumas pequenas diferenças. Esta, no que lhe concerne, possui a formação do triangulo vazio na parte inferior e os seus valores na parte superior.\n",
        "\n",
        "```\n",
        "|1|1|1|1|\n",
        "|0|2|2|2|  \n",
        "|0|0|3|3|\n",
        "|0|0|0|4|\n",
        "```\n"
      ]
    },
    {
      "cell_type": "markdown",
      "metadata": {
        "id": "fT0biZDLAHK1"
      },
      "source": [
        "### Matriz diagonal\n",
        "Agora vamos conhecer algumas peculiaridades das matrizes.\n",
        "Conhecemos como matriz diagonal as matrizes que possuem valores apenas nos elementos que pertencem as suas diagonais. Todos os elementos restantes da matriz possuem valores vazios.\n",
        "\n",
        "```\n",
        "|1|0|0|0|\n",
        "|0|2|0|0|  \n",
        "|0|0|3|0|\n",
        "|0|0|0|4|\n",
        "```\n",
        "\n",
        "### Matriz identidade\n",
        "Seguindo com as peculiaridades, temos a matriz identidade semelhante com a matriz diagonal, esta categoria de matriz possui a sua diagonal com elementos formados por apenas valores iguais a '1'.\n",
        "\n",
        "```\n",
        "|1|0|0|0|\n",
        "|0|1|0|0|  \n",
        "|0|0|1|0|\n",
        "|0|0|0|1|\n",
        "```\n",
        "\n",
        "### Matriz simétrica\n",
        "Parecido com a estrutura das matrizes explicadas anteriormente. Neste caso, temos a divisão da matriz pela sua diagonal principal. Os dois triângulos formados na parte superior e inferior possuem os mesmos elementos e valores de forma simétrica.\n",
        "\n",
        "```\n",
        "|X|1|2|3|\n",
        "|1|X|1|2|  \n",
        "|2|1|X|3|\n",
        "|3|2|3|X|\n",
        "```"
      ]
    },
    {
      "cell_type": "markdown",
      "metadata": {
        "id": "-BpcKP7xZYqZ"
      },
      "source": [
        "### Operações aritméticas com matrizes\n",
        "É muito simples as operações com matrizes. Devemos apenas ficarmos atentos com algumas regras. Por exemplo, para soma e subtração as matrizes devem ser de mesma dimensão. Não obrigatoriamente precisam ser quadradas. Irei começar explicando as operações mais simples, a intenção é utilizar o python para tratar as matrizes. Posteriormente irei aplicar no código operações mais complexas.\n",
        "\n",
        "### Soma\n",
        "Na soma de matrizes somamos índice por índice. No final alocamos em uma nova matriz os resultados nos seus respectivos índices anteriores. Para exemplificar, vamos somar primeiramente duas listas.\n",
        "\n",
        "```\n",
        "índice A0 = 2\n",
        "índice A1 = 4\n",
        "índice B0 = 3\n",
        "Índice B1 = 5\n",
        "\n",
        "A0 + B0 = 5\n",
        "A1 + B1 = 9\n",
        "C0 = 5\n",
        "C1 = 9\n",
        "\n",
        "|2||4| + |3||5| = |5||9|\n",
        "```\n",
        "Bom, agora vamos somar duas matrizes. Para facilitar o seu raciocínio imagine que vamos apenas adicionar mais uma lista para cada conjunto de listas. O processo continua o mesmo, somar índice por índice e realocar em uma nova matriz nos mesmos locais que os elementos das matrizes anteriores.\n",
        "\n",
        "```\n",
        "índice A0 = 2\n",
        "índice A1 = 4\n",
        "índice A2 = 1\n",
        "índice A3 = 3\n",
        "\n",
        "índice B0 = 3\n",
        "Índice B1 = 5\n",
        "índice B2 = 2\n",
        "Índice B3 = 4\n",
        "\n",
        "A0 + B0 = 5\n",
        "A1 + B1 = 9\n",
        "A2 + B2 = 3\n",
        "A3 + B3 = 7\n",
        "\n",
        "C0 = 5\n",
        "C1 = 9\n",
        "C2 = 3\n",
        "C3 = 7\n",
        "\n",
        "|2||4|   |3||5|   |5||9|\n",
        " -  -  +  -  -  =  -  -\n",
        "|1||3|   |2||4|   |3||7|\n",
        "```\n",
        "\n",
        "### Subtração\n",
        "A subtração entre matrizes ocorre da mesma forma que a soma, não muda a estrutura. Vamos realizar a subtração de duas matrizes.\n",
        "\n",
        "```\n",
        "|6||2| ' |3||3| ' | 3| |-1| \n",
        "|0||4| - |5||4| = |-5| | 0|\n",
        "|1||5| ' |8||2| ' |-7| | 3|\n",
        "```\n"
      ]
    },
    {
      "cell_type": "markdown",
      "metadata": {
        "id": "OtXpWlE8hLOf"
      },
      "source": [
        "### Produtos entre matrizes\n",
        "Temos regras específicas para soma e subtração, para produtos entre matrizes não é diferente. Vamos lá, apenas é possível o produto de duas matrizes quando temos o número de linhas de uma matriz igual ao número de colunas de outra matriz. Vale lembrar que, o produto não é comutativo, o resultado de uma matriz 'A x B'  não é o mesmo que 'B x A'. A multiplicação ocorre sempre entre linhas e colunas. Vamos exemplificar melhor posteriormente com o python.\n",
        "\n",
        "Temos que definir mais alguns assuntos antes de partir para o python. Estamos chegando lá, prometo que falta pouco. \n",
        "\n",
        "### Multiplicação escalar\n",
        "O termo multiplicação escalar refere-se quando temos um determinado número e precisamos multiplicar por todos os índices de uma determinada matriz.\n",
        "\n",
        "```\n",
        "5 . 6 = 30\n",
        "5 . 2 = 10\n",
        "5 . 0 = 0\n",
        "5 . 4 = 20\n",
        "5 . 1 = 5\n",
        "5 . 5 = 25\n",
        "\n",
        "    |6||2|   |30| |10|\n",
        "5 . |0||4| = |0 | |20|\n",
        "    |1||5|   |5 | |25|\n",
        "```\n",
        "\n",
        "### Matriz transposta\n",
        "A matriz transposta pode parecer ser complicada de entender, principalmente quando aplicada diretamente com uma linguagem de programação. Devemos entender a base antes de qualquer código. É importante saber a base e os conceitos antes de manipular matrizes com o python.\n",
        "\n",
        "Matriz transposta nada mais é que escrever as linhas de uma matriz em colunas. Da seguinte forma:\n",
        "\n",
        "```\n",
        "|0||1|   |0||2||4|\n",
        "|2||3| = |1||3||5|\n",
        "|4||5|\n",
        "```\n",
        "\n",
        "### Divisão\n",
        "Tá! E a divisão? A divisão é algo um pouco peculiar, no entanto, existe um truque para facilitar a operação. Por ser algo desgastante vamos exemplificar melhor posteriormente. A divisão de duas matrizes é o mesmo que a multiplicação da matriz 'A' pela 'B' inversa. Aqui que entra a questão, B deve estar com as posições investidas para realizar  a multiplicação, logo, o resultado é o mesmo que a divisão. "
      ]
    },
    {
      "cell_type": "markdown",
      "metadata": {
        "id": "MI6vCFhopQmq"
      },
      "source": [
        "## Matemática com python e a biblioteca NumPy\n",
        "O python facilita muito o tratamento e operações de matrizes, um ótimo aliado para resolver problemas matemáticos. Possibilitando o uso com álgebra linear. Utilizaremos a biblioteca NumPy para deixar ainda mais completo e muito mais rápido. NumPy é uma biblioteca utilizada para diversos fins matemáticos e estatísticos.  \n",
        "\n",
        "<img width=\"600px\" src=\"https://miro.medium.com/max/765/1*cyXCE-JcBelTyrK-58w6_Q.png\"> "
      ]
    },
    {
      "cell_type": "markdown",
      "metadata": {
        "id": "i8dNlAtno99v"
      },
      "source": [
        "### Vamos colocar a mão na massa!\n",
        "Precisamos importar a biblioteca numpy. Logo após, nomearemos como 'np'."
      ]
    },
    {
      "cell_type": "code",
      "metadata": {
        "id": "HKa_H9FHrHkm"
      },
      "source": [
        "import numpy as np"
      ],
      "execution_count": null,
      "outputs": []
    },
    {
      "cell_type": "markdown",
      "metadata": {
        "id": "YqKdPAdKhK9t"
      },
      "source": [
        "### Estrutura\n",
        "Ao longo desse material explicarei sobre o tratamento de matrizes e vetores quanto as suas estruturas. Vamos começar falando sobre suas dimensões. Toda matriz ou vetor possui uma dimensão, isso é claro.\n",
        "\n",
        "Existem três principais dimensões, falaremos sobre cada uma delas. É importante lembrar que é raro ter mais de três dimensões, embora uma matriz possa ter até 32 dimensões.\n",
        "\n",
        "Chegamos na parte onde devo explicar o vetor e o vetor de vetores. Bom, é verdade que um vetor pode conter uma lista de vetores, confundido muitas vezes com uma matriz. Um vetor pode ter mais de uma categoria de dados, além disso, pode ter mais de uma dimensão. A matriz no que lhe concerne possui sempre uma estrutura uniforme e um vetor pode ter o tamanho de linhas ou colunas de variados tamanhos. Uma matriz por padrão sempre terá uma estrutura bidimensional, a menos que alguém altere.\n",
        "\n",
        "### Estruturas unidimensionais\n",
        "Um array unidimensional possui obviamente apenas uma dimensão. É muito simples criar matrizes e vetores com o python. Vamos começar definindo um nome. Por motivos didáticos colocaremos seu nome de arrayUni. Após definir um nome, usaremos o numpy para criar um vetor com os nossos dados. Será uma lista com os seguintes dados\"'Python', 'R', 'SQL'\". Observe que usaremos apenas um par de '[ ]' entre os dados. Isso indica que utilizaremos apenas uma dimensão. "
      ]
    },
    {
      "cell_type": "code",
      "metadata": {
        "colab": {
          "base_uri": "https://localhost:8080/"
        },
        "id": "Gn9Ds1nBndlS",
        "outputId": "de9796de-e87c-4e4d-9d1a-282b81d12cb2"
      },
      "source": [
        "'''Comentários\n",
        "Nome: arrayUni\n",
        "NumPy: np\n",
        "Tipo: array\n",
        "Dimensão: unidimensional\n",
        "dados: 'Python', 'R', 'SQL'\n",
        "'''\n",
        "arrayUni = np.array(['Python', 'R', 'SQL'])\n",
        "\n",
        "# Vamos chamar esse array agora\n",
        "arrayUni"
      ],
      "execution_count": null,
      "outputs": [
        {
          "output_type": "execute_result",
          "data": {
            "text/plain": [
              "array(['Python', 'R', 'SQL'], dtype='<U6')"
            ]
          },
          "metadata": {
            "tags": []
          },
          "execution_count": 2
        }
      ]
    },
    {
      "cell_type": "markdown",
      "metadata": {
        "id": "bbkcy09aljAM"
      },
      "source": [
        "\n",
        "### Estruturas bidimensionais\n",
        "Seguiremos quase o mesmo que o exemplo anterior. As matrizes bidimensionais podem ter mais de uma categoria de dados. Para matrizes e vetores com duas dimensões é preciso encapsular entre parênteses. Dessa forma \"[ [ 'valor', 'ano', 'id'], [25, 2021, 1421] ]\". Vamos criar uma matriz e um vetor bidimensional."
      ]
    },
    {
      "cell_type": "code",
      "metadata": {
        "colab": {
          "base_uri": "https://localhost:8080/"
        },
        "id": "b0AsQR6IrXe7",
        "outputId": "b424fc37-ba25-43d2-adf4-dc9162cb83f9"
      },
      "source": [
        "# Matriz bidimensional\n",
        "matrixBi = np.matrix([['valor', 'ano','id'], [25, 2021, 1421]])\n",
        "matrixBi"
      ],
      "execution_count": null,
      "outputs": [
        {
          "output_type": "execute_result",
          "data": {
            "text/plain": [
              "matrix([['valor', 'ano', 'id'],\n",
              "        ['25', '2021', '1421']], dtype='<U5')"
            ]
          },
          "metadata": {
            "tags": []
          },
          "execution_count": 3
        }
      ]
    },
    {
      "cell_type": "markdown",
      "metadata": {
        "id": "_6vU27x36BrC"
      },
      "source": [
        "### Estruturas tridimensionais\n",
        "Arrays tridimensionais são o suficiente para lidar com muitas necessidades. Possui o mesmo padrão dos exemplos anteriores, com a diferença que possui mais uma dimensão. Depois da terceira dimensão começa a ficar um pouco mais complexo. Como não tenho a intenção de atrapalhar o seu aprendizado até aqui, assim espero, deixarei os tópicos mais complexos para outro material. Por enquanto estamos indo bem."
      ]
    },
    {
      "cell_type": "code",
      "metadata": {
        "colab": {
          "base_uri": "https://localhost:8080/"
        },
        "id": "RIZOlr_06C74",
        "outputId": "5c5809ea-ea37-45db-c073-e2ab202dffed"
      },
      "source": [
        "arrayTri = np.array([ [[1,2,3,4],[1,2,3,4]], [[1,2,3,4],[1,2,3,4]] ])\n",
        "arrayTri"
      ],
      "execution_count": null,
      "outputs": [
        {
          "output_type": "execute_result",
          "data": {
            "text/plain": [
              "array([[[1, 2, 3, 4],\n",
              "        [1, 2, 3, 4]],\n",
              "\n",
              "       [[1, 2, 3, 4],\n",
              "        [1, 2, 3, 4]]])"
            ]
          },
          "metadata": {
            "tags": []
          },
          "execution_count": 4
        }
      ]
    },
    {
      "cell_type": "markdown",
      "metadata": {
        "id": "kpxuqBiApqXP"
      },
      "source": [
        "### Provando as dimensões\n",
        "Agora que sabemos criar matrizes e vetores com o python, vamos tirar a prova das dimensões.\n",
        "\n",
        "Para isso, basta utilizar o \"ndim\" do python e teremos a dimensão como resultado."
      ]
    },
    {
      "cell_type": "code",
      "metadata": {
        "colab": {
          "base_uri": "https://localhost:8080/"
        },
        "id": "xbX-Kc6lm3Rg",
        "outputId": "3e1629e0-9afb-4a38-f760-a0bc3d015cf0"
      },
      "source": [
        "#Unidimensional\n",
        "arrayUni.ndim"
      ],
      "execution_count": null,
      "outputs": [
        {
          "output_type": "execute_result",
          "data": {
            "text/plain": [
              "1"
            ]
          },
          "metadata": {
            "tags": []
          },
          "execution_count": 5
        }
      ]
    },
    {
      "cell_type": "code",
      "metadata": {
        "colab": {
          "base_uri": "https://localhost:8080/"
        },
        "id": "9fIT8Vd8qYT-",
        "outputId": "b5e0ca86-63fb-4874-912e-db94ad92f0ea"
      },
      "source": [
        "#Bidimensional\n",
        "matrixBi.ndim"
      ],
      "execution_count": null,
      "outputs": [
        {
          "output_type": "execute_result",
          "data": {
            "text/plain": [
              "2"
            ]
          },
          "metadata": {
            "tags": []
          },
          "execution_count": 6
        }
      ]
    },
    {
      "cell_type": "code",
      "metadata": {
        "colab": {
          "base_uri": "https://localhost:8080/"
        },
        "id": "qbBz4UtuqbZH",
        "outputId": "bf5ae2a6-5153-43f3-ec13-dffc491a9c55"
      },
      "source": [
        "#tridimensional\n",
        "arrayTri.ndim"
      ],
      "execution_count": null,
      "outputs": [
        {
          "output_type": "execute_result",
          "data": {
            "text/plain": [
              "3"
            ]
          },
          "metadata": {
            "tags": []
          },
          "execution_count": 7
        }
      ]
    },
    {
      "cell_type": "markdown",
      "metadata": {
        "id": "c1X79k5IqxJM"
      },
      "source": [
        "### Tamanho\n",
        "Lembra que no começo aprendemos que o tamanho das matrizes são representadas por m x n?\n",
        "A letra m representa as linhas e a n as colunas. Usando o \"shape\" podemos saber o tamanho de qualquer matriz.\n"
      ]
    },
    {
      "cell_type": "code",
      "metadata": {
        "colab": {
          "base_uri": "https://localhost:8080/"
        },
        "id": "rRCQ6zCXqdSm",
        "outputId": "7f4e94d8-6b47-4fbb-8f8b-3067a4f677c7"
      },
      "source": [
        "matrixBi.shape"
      ],
      "execution_count": null,
      "outputs": [
        {
          "output_type": "execute_result",
          "data": {
            "text/plain": [
              "(2, 3)"
            ]
          },
          "metadata": {
            "tags": []
          },
          "execution_count": 8
        }
      ]
    },
    {
      "cell_type": "markdown",
      "metadata": {
        "id": "h9XmLn9Isf4a"
      },
      "source": [
        "### Maior valor\n",
        "Para saber o maior valor dentro de uma matriz podemos utilizar a função \"max\". Lembrando que a função não trabalha com vetores unidimensionais. Nem mesmo com os que possuem mais de um tipo de valores.\n"
      ]
    },
    {
      "cell_type": "code",
      "metadata": {
        "colab": {
          "base_uri": "https://localhost:8080/"
        },
        "id": "gmYo1Na9r1c7",
        "outputId": "d29ad84f-17c9-4772-f523-7cbd19e1899e"
      },
      "source": [
        "arrayTri.max()"
      ],
      "execution_count": null,
      "outputs": [
        {
          "output_type": "execute_result",
          "data": {
            "text/plain": [
              "4"
            ]
          },
          "metadata": {
            "tags": []
          },
          "execution_count": 9
        }
      ]
    },
    {
      "cell_type": "markdown",
      "metadata": {
        "id": "r3ObnHeVYSht"
      },
      "source": [
        "### Vamos para operações\n",
        "Trabalhar com operações em matrizes e vetores é relativamente muito simples. Torna ainda mais fácil quando temos o python ou qualquer outra linguagem como nosso aliado. Criarei primeiramente uma matriz e realizarei algumas operações simples. Entenda que no lugar da matriz poderia ser um vetor."
      ]
    },
    {
      "cell_type": "code",
      "metadata": {
        "colab": {
          "base_uri": "https://localhost:8080/"
        },
        "id": "0UeIENnSbQjR",
        "outputId": "7b07e8eb-cffd-4200-b348-c67dd66887fd"
      },
      "source": [
        "# Matriz A\n",
        "matrixA = np.matrix([ [2,4,6,8], [1,3,5,7], [9,11,13,15], [12,14,16,18] ])\n",
        "print(matrixA)"
      ],
      "execution_count": null,
      "outputs": [
        {
          "output_type": "stream",
          "text": [
            "[[ 2  4  6  8]\n",
            " [ 1  3  5  7]\n",
            " [ 9 11 13 15]\n",
            " [12 14 16 18]]\n"
          ],
          "name": "stdout"
        }
      ]
    },
    {
      "cell_type": "markdown",
      "metadata": {
        "id": "rKMgC3BubEsc"
      },
      "source": [
        "#### Soma"
      ]
    },
    {
      "cell_type": "code",
      "metadata": {
        "id": "wcTWMDWGsoPK",
        "colab": {
          "base_uri": "https://localhost:8080/"
        },
        "outputId": "653cac90-207e-4c5d-fe63-eb36e44dac00"
      },
      "source": [
        "matrixA + 2"
      ],
      "execution_count": null,
      "outputs": [
        {
          "output_type": "execute_result",
          "data": {
            "text/plain": [
              "matrix([[ 4,  6,  8, 10],\n",
              "        [ 3,  5,  7,  9],\n",
              "        [11, 13, 15, 17],\n",
              "        [14, 16, 18, 20]])"
            ]
          },
          "metadata": {
            "tags": []
          },
          "execution_count": 11
        }
      ]
    },
    {
      "cell_type": "markdown",
      "metadata": {
        "id": "1amWK3NXcYhd"
      },
      "source": [
        "Repare que a operação é feita elemento por elemento."
      ]
    },
    {
      "cell_type": "markdown",
      "metadata": {
        "id": "YA9E_CQvdJ3K"
      },
      "source": [
        "#### Subtração\n"
      ]
    },
    {
      "cell_type": "code",
      "metadata": {
        "colab": {
          "base_uri": "https://localhost:8080/"
        },
        "id": "oFcAQqd_dNBk",
        "outputId": "0a9ebb55-4d9f-4eae-ac1a-5d8c16a2ef3a"
      },
      "source": [
        "matrixA - 1"
      ],
      "execution_count": null,
      "outputs": [
        {
          "output_type": "execute_result",
          "data": {
            "text/plain": [
              "matrix([[ 1,  3,  5,  7],\n",
              "        [ 0,  2,  4,  6],\n",
              "        [ 8, 10, 12, 14],\n",
              "        [11, 13, 15, 17]])"
            ]
          },
          "metadata": {
            "tags": []
          },
          "execution_count": 12
        }
      ]
    },
    {
      "cell_type": "markdown",
      "metadata": {
        "id": "AD2r5UOLcrMq"
      },
      "source": [
        "#### Multiplicação"
      ]
    },
    {
      "cell_type": "code",
      "metadata": {
        "colab": {
          "base_uri": "https://localhost:8080/"
        },
        "id": "EGgOPlNFcQqu",
        "outputId": "e0bc0f58-36f9-4a55-c8a3-a7617b62f43c"
      },
      "source": [
        "matrixA * 3"
      ],
      "execution_count": null,
      "outputs": [
        {
          "output_type": "execute_result",
          "data": {
            "text/plain": [
              "matrix([[ 6, 12, 18, 24],\n",
              "        [ 3,  9, 15, 21],\n",
              "        [27, 33, 39, 45],\n",
              "        [36, 42, 48, 54]])"
            ]
          },
          "metadata": {
            "tags": []
          },
          "execution_count": 13
        }
      ]
    },
    {
      "cell_type": "markdown",
      "metadata": {
        "id": "IokX9-8odYei"
      },
      "source": [
        "#### Divisão"
      ]
    },
    {
      "cell_type": "code",
      "metadata": {
        "colab": {
          "base_uri": "https://localhost:8080/"
        },
        "id": "qtDmX4CWcytZ",
        "outputId": "13f1a143-9732-43a7-a7e6-d45d15d9661d"
      },
      "source": [
        "matrixA / 4"
      ],
      "execution_count": null,
      "outputs": [
        {
          "output_type": "execute_result",
          "data": {
            "text/plain": [
              "matrix([[0.5 , 1.  , 1.5 , 2.  ],\n",
              "        [0.25, 0.75, 1.25, 1.75],\n",
              "        [2.25, 2.75, 3.25, 3.75],\n",
              "        [3.  , 3.5 , 4.  , 4.5 ]])"
            ]
          },
          "metadata": {
            "tags": []
          },
          "execution_count": 14
        }
      ]
    },
    {
      "cell_type": "markdown",
      "metadata": {
        "id": "mSOhbXnjdn5j"
      },
      "source": [
        "#### Potência"
      ]
    },
    {
      "cell_type": "code",
      "metadata": {
        "colab": {
          "base_uri": "https://localhost:8080/"
        },
        "id": "UvQngzU1depT",
        "outputId": "3d204759-48ca-4f3e-def7-6c71c718b86c"
      },
      "source": [
        "matrixA ** 2"
      ],
      "execution_count": null,
      "outputs": [
        {
          "output_type": "execute_result",
          "data": {
            "text/plain": [
              "matrix([[158, 198, 238, 278],\n",
              "        [134, 166, 198, 230],\n",
              "        [326, 422, 518, 614],\n",
              "        [398, 518, 638, 758]])"
            ]
          },
          "metadata": {
            "tags": []
          },
          "execution_count": 15
        }
      ]
    },
    {
      "cell_type": "markdown",
      "metadata": {
        "id": "osYCBDuxd7GW"
      },
      "source": [
        "### Operações entre matrizes\n",
        "Criaremos outra matriz para realizar as operações.   \n",
        "Todo o resultado será armazenado em uma matriz chamada 'c'."
      ]
    },
    {
      "cell_type": "code",
      "metadata": {
        "id": "BJNPHvHbfTYY"
      },
      "source": [
        "# Matriz B\n",
        "matrixB = np.matrix([ [4,1,2,7], [5,3,2,2], [7,15,3,13], [11,16,5,21] ])"
      ],
      "execution_count": null,
      "outputs": []
    },
    {
      "cell_type": "code",
      "metadata": {
        "colab": {
          "base_uri": "https://localhost:8080/"
        },
        "id": "xhAsUFyzf3jO",
        "outputId": "929be13d-5132-4ab5-b6ec-29f8857b65a1"
      },
      "source": [
        "matrixB"
      ],
      "execution_count": null,
      "outputs": [
        {
          "output_type": "execute_result",
          "data": {
            "text/plain": [
              "matrix([[ 4,  1,  2,  7],\n",
              "        [ 5,  3,  2,  2],\n",
              "        [ 7, 15,  3, 13],\n",
              "        [11, 16,  5, 21]])"
            ]
          },
          "metadata": {
            "tags": []
          },
          "execution_count": 17
        }
      ]
    },
    {
      "cell_type": "code",
      "metadata": {
        "colab": {
          "base_uri": "https://localhost:8080/"
        },
        "id": "xL0e4Cvdd-kB",
        "outputId": "78f9d8ed-2e5d-416d-a2ec-563199b5da69"
      },
      "source": [
        "matrixA"
      ],
      "execution_count": null,
      "outputs": [
        {
          "output_type": "execute_result",
          "data": {
            "text/plain": [
              "matrix([[ 2,  4,  6,  8],\n",
              "        [ 1,  3,  5,  7],\n",
              "        [ 9, 11, 13, 15],\n",
              "        [12, 14, 16, 18]])"
            ]
          },
          "metadata": {
            "tags": []
          },
          "execution_count": 18
        }
      ]
    },
    {
      "cell_type": "markdown",
      "metadata": {
        "id": "n544yJuQgTc0"
      },
      "source": [
        "#### Soma"
      ]
    },
    {
      "cell_type": "code",
      "metadata": {
        "colab": {
          "base_uri": "https://localhost:8080/"
        },
        "id": "9EhX0nXfgJef",
        "outputId": "dbab8c6a-c35e-4104-b237-cad98ebaa2d8"
      },
      "source": [
        "matrixC = matrixA + matrixB\n",
        "matrixC"
      ],
      "execution_count": null,
      "outputs": [
        {
          "output_type": "execute_result",
          "data": {
            "text/plain": [
              "matrix([[ 6,  5,  8, 15],\n",
              "        [ 6,  6,  7,  9],\n",
              "        [16, 26, 16, 28],\n",
              "        [23, 30, 21, 39]])"
            ]
          },
          "metadata": {
            "tags": []
          },
          "execution_count": 19
        }
      ]
    },
    {
      "cell_type": "markdown",
      "metadata": {
        "id": "mRMZMEzAglz7"
      },
      "source": [
        "Os elementos de cada matriz ou vetor são somados uns com os outros criando uma nova matriz ou vetor."
      ]
    },
    {
      "cell_type": "markdown",
      "metadata": {
        "id": "Wo2nwJJzhscr"
      },
      "source": [
        "#### Subtração"
      ]
    },
    {
      "cell_type": "code",
      "metadata": {
        "colab": {
          "base_uri": "https://localhost:8080/"
        },
        "id": "fHAE2FJ3gbdK",
        "outputId": "980e3dd5-d6fa-437e-a4c8-98863257911c"
      },
      "source": [
        "matrixC = matrixA - matrixB\n",
        "matrixC"
      ],
      "execution_count": null,
      "outputs": [
        {
          "output_type": "execute_result",
          "data": {
            "text/plain": [
              "matrix([[-2,  3,  4,  1],\n",
              "        [-4,  0,  3,  5],\n",
              "        [ 2, -4, 10,  2],\n",
              "        [ 1, -2, 11, -3]])"
            ]
          },
          "metadata": {
            "tags": []
          },
          "execution_count": 20
        }
      ]
    },
    {
      "cell_type": "markdown",
      "metadata": {
        "id": "bz5eyMfvh7Ue"
      },
      "source": [
        "#### Multiplicação"
      ]
    },
    {
      "cell_type": "code",
      "metadata": {
        "colab": {
          "base_uri": "https://localhost:8080/"
        },
        "id": "LDsV8uyGh0Ll",
        "outputId": "7f310bfc-a76d-48e8-a56d-3a78b3a04579"
      },
      "source": [
        "matrixC = matrixA * matrixB\n",
        "matrixC"
      ],
      "execution_count": null,
      "outputs": [
        {
          "output_type": "execute_result",
          "data": {
            "text/plain": [
              "matrix([[158, 232,  70, 268],\n",
              "        [131, 197,  58, 225],\n",
              "        [347, 477, 154, 569],\n",
              "        [428, 582, 190, 698]])"
            ]
          },
          "metadata": {
            "tags": []
          },
          "execution_count": 21
        }
      ]
    },
    {
      "cell_type": "markdown",
      "metadata": {
        "id": "2TqTl2qWiHKj"
      },
      "source": [
        "#### Divisão"
      ]
    },
    {
      "cell_type": "code",
      "metadata": {
        "colab": {
          "base_uri": "https://localhost:8080/"
        },
        "id": "7IzcVlIEiEUh",
        "outputId": "93ef2fb8-1d70-47b8-c610-2cf98b30178f"
      },
      "source": [
        "matrixC = matrixA / matrixB\n",
        "matrixC"
      ],
      "execution_count": null,
      "outputs": [
        {
          "output_type": "execute_result",
          "data": {
            "text/plain": [
              "matrix([[0.5       , 4.        , 3.        , 1.14285714],\n",
              "        [0.2       , 1.        , 2.5       , 3.5       ],\n",
              "        [1.28571429, 0.73333333, 4.33333333, 1.15384615],\n",
              "        [1.09090909, 0.875     , 3.2       , 0.85714286]])"
            ]
          },
          "metadata": {
            "tags": []
          },
          "execution_count": 22
        }
      ]
    },
    {
      "cell_type": "markdown",
      "metadata": {
        "id": "Lr90EOKWyUjc"
      },
      "source": [
        "### Condições lógicas\n",
        "Operações lógicas trabalham com valores booleanos. Um dado booleano só pode assumir dois valores, verdadeiro(True) e falso(False). Irei disponibilizar uma tabela \"verdade\" para um melhor entendimento do assunto. Caso você não tenha nenhum conhecimento prévio indico que faça uma pesquisa antes. Apesar de simples é muito importante entender condições lógicas. Utilizamos comumente na matemática e na computação.   \n",
        "\n",
        "Recomendo essa aula do curso em video com o professor Guanabara ([Operadores Lógicos e Relacionais - Curso de Algoritmos #04 - Gustavo Guanabara](https://www.youtube.com/watch?v=Ig4QZNpVZYs&list=PLHz_AreHm4dmSj0MHol_aoNYCSGFqvfXV&index=5)).\n",
        "\n",
        "\n",
        "\n",
        "```\n",
        "        Tabela verdade\n",
        "  P   |   Q   |  OR   |  AND  |\n",
        "----- | ----- | ----- | ----- |\n",
        "  V   |   V   |   V   |   V   |\n",
        "  V   |   F   |   V   |   F   |\n",
        "  F   |   V   |   V   |   F   |\n",
        "  F   |   F   |   F   |   F   |\n",
        "```\n",
        "\n",
        "\n"
      ]
    },
    {
      "cell_type": "code",
      "metadata": {
        "colab": {
          "base_uri": "https://localhost:8080/"
        },
        "id": "-yTsVavpdkSN",
        "outputId": "5906d50a-d54c-4952-b22c-8cc663c84761"
      },
      "source": [
        "# Array A\n",
        "arrayA = np.array([[3,2,7,9,2], [7,4,3,9,1]])\n",
        "arrayA"
      ],
      "execution_count": null,
      "outputs": [
        {
          "output_type": "execute_result",
          "data": {
            "text/plain": [
              "array([[3, 2, 7, 9, 2],\n",
              "       [7, 4, 3, 9, 1]])"
            ]
          },
          "metadata": {
            "tags": []
          },
          "execution_count": 23
        }
      ]
    },
    {
      "cell_type": "code",
      "metadata": {
        "colab": {
          "base_uri": "https://localhost:8080/"
        },
        "id": "naGw0-gmeFpd",
        "outputId": "55f3ddcb-00d4-42be-e94e-94951d03a383"
      },
      "source": [
        "# Array B\n",
        "arrayB = np.array([[12, 2, 5, 9, 7],[7, 4, 3, 9, 0]])\n",
        "arrayB"
      ],
      "execution_count": null,
      "outputs": [
        {
          "output_type": "execute_result",
          "data": {
            "text/plain": [
              "array([[12,  2,  5,  9,  7],\n",
              "       [ 7,  4,  3,  9,  0]])"
            ]
          },
          "metadata": {
            "tags": []
          },
          "execution_count": 24
        }
      ]
    },
    {
      "cell_type": "markdown",
      "metadata": {
        "id": "DSMU9EcodaaD"
      },
      "source": [
        "#### Igualdade"
      ]
    },
    {
      "cell_type": "code",
      "metadata": {
        "colab": {
          "base_uri": "https://localhost:8080/"
        },
        "id": "caUFirBbdeFA",
        "outputId": "8db7d403-071c-4685-9651-2bb488e5819c"
      },
      "source": [
        "# Quais elementos do Array A são iguais aos do array B?\n",
        "'''\n",
        "  False = Diferente\n",
        "  True = Igual\n",
        "'''\n",
        "arrayA == arrayB"
      ],
      "execution_count": null,
      "outputs": [
        {
          "output_type": "execute_result",
          "data": {
            "text/plain": [
              "array([[False,  True, False,  True, False],\n",
              "       [ True,  True,  True,  True, False]])"
            ]
          },
          "metadata": {
            "tags": []
          },
          "execution_count": 25
        }
      ]
    },
    {
      "cell_type": "markdown",
      "metadata": {
        "id": "OyPf4UDffVsF"
      },
      "source": [
        "#### Diferença"
      ]
    },
    {
      "cell_type": "code",
      "metadata": {
        "colab": {
          "base_uri": "https://localhost:8080/"
        },
        "id": "pgoOcSJye-rY",
        "outputId": "48771d3a-7116-4edf-dc27-9e3baef7a7e2"
      },
      "source": [
        "# Quais elementos do Array A são diferentes aos do array B?\n",
        "'''\n",
        "  False = Diferente\n",
        "  True = Igual\n",
        "'''\n",
        "arrayA != arrayB"
      ],
      "execution_count": null,
      "outputs": [
        {
          "output_type": "execute_result",
          "data": {
            "text/plain": [
              "array([[ True, False,  True, False,  True],\n",
              "       [False, False, False, False,  True]])"
            ]
          },
          "metadata": {
            "tags": []
          },
          "execution_count": 26
        }
      ]
    },
    {
      "cell_type": "markdown",
      "metadata": {
        "id": "RUG0_gQSfxjo"
      },
      "source": [
        "#### Menor Que..."
      ]
    },
    {
      "cell_type": "code",
      "metadata": {
        "colab": {
          "base_uri": "https://localhost:8080/"
        },
        "id": "FIIWPl4Tfl1f",
        "outputId": "1dc77c9f-7945-4321-fbfd-8bad46482195"
      },
      "source": [
        "# Quais elementos do Array A são menores que os do array B?\n",
        "'''\n",
        "  False = Maior ou igual\n",
        "  True = Menor\n",
        "'''\n",
        "arrayA < arrayB"
      ],
      "execution_count": null,
      "outputs": [
        {
          "output_type": "execute_result",
          "data": {
            "text/plain": [
              "array([[ True, False, False, False,  True],\n",
              "       [False, False, False, False, False]])"
            ]
          },
          "metadata": {
            "tags": []
          },
          "execution_count": 27
        }
      ]
    },
    {
      "cell_type": "markdown",
      "metadata": {
        "id": "edKloUmTgCk0"
      },
      "source": [
        "#### Maior que...\n"
      ]
    },
    {
      "cell_type": "code",
      "metadata": {
        "colab": {
          "base_uri": "https://localhost:8080/"
        },
        "id": "OeeuJUE3gAcN",
        "outputId": "32d39d52-e909-4787-e6d7-b47a9b87447e"
      },
      "source": [
        "# Quais elementos do Array A são maiores que os do array B?\n",
        "'''\n",
        "  False = Menor ou igual\n",
        "  True = maior\n",
        "'''\n",
        "arrayA > arrayB"
      ],
      "execution_count": null,
      "outputs": [
        {
          "output_type": "execute_result",
          "data": {
            "text/plain": [
              "array([[False, False,  True, False, False],\n",
              "       [False, False, False, False,  True]])"
            ]
          },
          "metadata": {
            "tags": []
          },
          "execution_count": 28
        }
      ]
    },
    {
      "cell_type": "markdown",
      "metadata": {
        "id": "ZJ2BXc_5j6z6"
      },
      "source": [
        "Espero que você tenha aprofundado seu conhecimento sobre condições lógicas. Vamos utilizar funções com operações mais específicas nesse momento.\n",
        "\n",
        "Vamos atribuir valores boleanos aleatórios para os arrays A e B. Cada array recebe um novo nome p e q."
      ]
    },
    {
      "cell_type": "code",
      "metadata": {
        "id": "KV9dJyStgLdI"
      },
      "source": [
        "# Array A = Array p\n",
        "arrayA = np.array([True, True, False, False])\n",
        "p = arrayA\n",
        "# Array B = Array Q\n",
        "arrayB = np.array([True, False, True, False])\n",
        "q = arrayB"
      ],
      "execution_count": null,
      "outputs": []
    },
    {
      "cell_type": "code",
      "metadata": {
        "colab": {
          "base_uri": "https://localhost:8080/"
        },
        "id": "6fOhcYlsnSIC",
        "outputId": "0f3ea9ec-6873-4bf7-d273-dd055b651b19"
      },
      "source": [
        "# Array A\n",
        "p"
      ],
      "execution_count": null,
      "outputs": [
        {
          "output_type": "execute_result",
          "data": {
            "text/plain": [
              "array([ True,  True, False, False])"
            ]
          },
          "metadata": {
            "tags": []
          },
          "execution_count": 30
        }
      ]
    },
    {
      "cell_type": "code",
      "metadata": {
        "colab": {
          "base_uri": "https://localhost:8080/"
        },
        "id": "IVZ8odYlnX7b",
        "outputId": "b5bd0afc-0542-4494-c511-7dd2e7bf1f9e"
      },
      "source": [
        "# Array B\n",
        "q"
      ],
      "execution_count": null,
      "outputs": [
        {
          "output_type": "execute_result",
          "data": {
            "text/plain": [
              "array([ True, False,  True, False])"
            ]
          },
          "metadata": {
            "tags": []
          },
          "execution_count": 31
        }
      ]
    },
    {
      "cell_type": "markdown",
      "metadata": {
        "id": "ZR-QI-gZoG9I"
      },
      "source": [
        "#### OR\n",
        "Essa função compara se os valores boleanos de um ou outro são true. Se for verdadeiro retorna o valor True."
      ]
    },
    {
      "cell_type": "code",
      "metadata": {
        "colab": {
          "base_uri": "https://localhost:8080/"
        },
        "id": "-zEssPg_nZmX",
        "outputId": "2084f411-f561-468a-b568-0ea116fee0c2"
      },
      "source": [
        "# Comparação 'OR' entre os valores de P e Q\n",
        "np.logical_or(p,q)"
      ],
      "execution_count": null,
      "outputs": [
        {
          "output_type": "execute_result",
          "data": {
            "text/plain": [
              "array([ True,  True,  True, False])"
            ]
          },
          "metadata": {
            "tags": []
          },
          "execution_count": 32
        }
      ]
    },
    {
      "cell_type": "markdown",
      "metadata": {
        "id": "VIC4lpmOoXfr"
      },
      "source": [
        "#### AND\n",
        "Os valores tanto de um array quanto de outro deve ser true. Caso seja verdadeiro ele retorna true, se for falso, false."
      ]
    },
    {
      "cell_type": "code",
      "metadata": {
        "colab": {
          "base_uri": "https://localhost:8080/"
        },
        "id": "-8gy_YCdoShh",
        "outputId": "b614c1f7-0eca-4935-afaa-7868de6e6abc"
      },
      "source": [
        "# Comparação 'AND' entre os valores de P e Q\n",
        "np.logical_and(p,q)"
      ],
      "execution_count": null,
      "outputs": [
        {
          "output_type": "execute_result",
          "data": {
            "text/plain": [
              "array([ True, False, False, False])"
            ]
          },
          "metadata": {
            "tags": []
          },
          "execution_count": 33
        }
      ]
    },
    {
      "cell_type": "markdown",
      "metadata": {
        "id": "xN6fv_Czvt5F"
      },
      "source": [
        "### Indexação de arrays\n",
        "Basicamente cada elemento em um array possui um índice como referência.\n",
        "Desde o índice do primeiro elemento até o índice do último elemento, seguindo sequencialmente(0, 1, 2, 3, 4...). Dessa forma podemos indexar cada elemento e usar como referência. É extremamente comum o uso desses índices como referência.\n",
        "\n",
        "Vamos criar dois arrays para os exemplos:"
      ]
    },
    {
      "cell_type": "code",
      "metadata": {
        "id": "a8TiiHq3oeq-"
      },
      "source": [
        "# Primeiro array\n",
        "arrayA = np.array([12, 23, 55, 42])\n",
        "# Segundo array\n",
        "arrayB = np.array([32, 44, 52, 26, 19])"
      ],
      "execution_count": null,
      "outputs": []
    },
    {
      "cell_type": "markdown",
      "metadata": {
        "id": "2G3vf0mowBKS"
      },
      "source": [
        "Cada valor de cada array possui uma estrutura de índices da seguinte forma:  \n",
        "```\n",
        " 0    1   2   3\n",
        "[12, 23, 55, 42]\n",
        "\n",
        " 0    1   2   3   4\n",
        "[32, 44, 52, 26, 19]\n",
        "```\n",
        "Vamos usar os índices para printar na tela seus respectivos valores.  \n",
        "Compare o código com a tabela."
      ]
    },
    {
      "cell_type": "code",
      "metadata": {
        "colab": {
          "base_uri": "https://localhost:8080/"
        },
        "id": "DFUceCCPwPy6",
        "outputId": "dc629f02-5cd0-44aa-ceff-16f3aa579a0c"
      },
      "source": [
        "# Array 'A' valor '12' com o indice '0'\n",
        "arrayA[0]"
      ],
      "execution_count": null,
      "outputs": [
        {
          "output_type": "execute_result",
          "data": {
            "text/plain": [
              "12"
            ]
          },
          "metadata": {
            "tags": []
          },
          "execution_count": 35
        }
      ]
    },
    {
      "cell_type": "code",
      "metadata": {
        "colab": {
          "base_uri": "https://localhost:8080/"
        },
        "id": "MwAEu1Lwv7Z9",
        "outputId": "3cf2b15c-41cf-43fd-cd1e-4a7c53111c33"
      },
      "source": [
        "# Array 'B' valor '32' com o indice '0'\n",
        "arrayB[0]"
      ],
      "execution_count": null,
      "outputs": [
        {
          "output_type": "execute_result",
          "data": {
            "text/plain": [
              "32"
            ]
          },
          "metadata": {
            "tags": []
          },
          "execution_count": 36
        }
      ]
    },
    {
      "cell_type": "code",
      "metadata": {
        "colab": {
          "base_uri": "https://localhost:8080/"
        },
        "id": "M8dy3JFVwRCF",
        "outputId": "0bebed3c-a573-489c-c9d3-0a11e9e50b61"
      },
      "source": [
        "# Array 'A' valor '42' com o indice '3'\n",
        "arrayA[3]"
      ],
      "execution_count": null,
      "outputs": [
        {
          "output_type": "execute_result",
          "data": {
            "text/plain": [
              "42"
            ]
          },
          "metadata": {
            "tags": []
          },
          "execution_count": 37
        }
      ]
    },
    {
      "cell_type": "code",
      "metadata": {
        "colab": {
          "base_uri": "https://localhost:8080/"
        },
        "id": "YDD9m6_nwTmq",
        "outputId": "68e816a7-2240-4c53-9e42-fba9113b7a85"
      },
      "source": [
        "# Array 'B' valor '19' com o indice '4'\n",
        "arrayB[4]"
      ],
      "execution_count": null,
      "outputs": [
        {
          "output_type": "execute_result",
          "data": {
            "text/plain": [
              "19"
            ]
          },
          "metadata": {
            "tags": []
          },
          "execution_count": 38
        }
      ]
    },
    {
      "cell_type": "markdown",
      "metadata": {
        "id": "AR6RQxQgwZxF"
      },
      "source": [
        "Agora vamos listar todos os valores de cada array."
      ]
    },
    {
      "cell_type": "code",
      "metadata": {
        "colab": {
          "base_uri": "https://localhost:8080/"
        },
        "id": "p8KVrYDdwU83",
        "outputId": "72299987-e856-43e5-841f-e287dccfe410"
      },
      "source": [
        "arrayA[0:4]"
      ],
      "execution_count": null,
      "outputs": [
        {
          "output_type": "execute_result",
          "data": {
            "text/plain": [
              "array([12, 23, 55, 42])"
            ]
          },
          "metadata": {
            "tags": []
          },
          "execution_count": 39
        }
      ]
    },
    {
      "cell_type": "code",
      "metadata": {
        "colab": {
          "base_uri": "https://localhost:8080/"
        },
        "id": "koWXuoxIwcbm",
        "outputId": "da90dce8-e866-4d9e-8490-fa615ee131aa"
      },
      "source": [
        "arrayB[0:5]"
      ],
      "execution_count": null,
      "outputs": [
        {
          "output_type": "execute_result",
          "data": {
            "text/plain": [
              "array([32, 44, 52, 26, 19])"
            ]
          },
          "metadata": {
            "tags": []
          },
          "execution_count": 40
        }
      ]
    },
    {
      "cell_type": "markdown",
      "metadata": {
        "id": "NDajoHahwlSZ"
      },
      "source": [
        "Existe uma forma mais simples de usar caso você não saiba os índices iniciais e finais."
      ]
    },
    {
      "cell_type": "code",
      "metadata": {
        "colab": {
          "base_uri": "https://localhost:8080/"
        },
        "id": "dDUqNT3nwd0L",
        "outputId": "69a2ae26-c26d-463d-e270-f634f10671fb"
      },
      "source": [
        "arrayA[:]"
      ],
      "execution_count": null,
      "outputs": [
        {
          "output_type": "execute_result",
          "data": {
            "text/plain": [
              "array([12, 23, 55, 42])"
            ]
          },
          "metadata": {
            "tags": []
          },
          "execution_count": 41
        }
      ]
    },
    {
      "cell_type": "markdown",
      "metadata": {
        "id": "WOiUMitVw2WT"
      },
      "source": [
        "O [ : ] sem valor nenhum é usado para dizer que você precisa de todos os elementos do índice inicial até o índice final.\n",
        "\n",
        "Você pode escolher mostrar os valores com intervalos de x em x. Para isso, basta passar um terceiro parâmetro com o número de intervalos."
      ]
    },
    {
      "cell_type": "code",
      "metadata": {
        "colab": {
          "base_uri": "https://localhost:8080/"
        },
        "id": "oeFtCg7Jws5C",
        "outputId": "66ac3cdd-70f0-498c-d356-fca5debf9f22"
      },
      "source": [
        "arrayB[ : :2]"
      ],
      "execution_count": null,
      "outputs": [
        {
          "output_type": "execute_result",
          "data": {
            "text/plain": [
              "array([32, 52, 19])"
            ]
          },
          "metadata": {
            "tags": []
          },
          "execution_count": 42
        }
      ]
    },
    {
      "cell_type": "markdown",
      "metadata": {
        "id": "-q-4UO0yw_jL"
      },
      "source": [
        "Vamos agora pegar o último elemento."
      ]
    },
    {
      "cell_type": "code",
      "metadata": {
        "colab": {
          "base_uri": "https://localhost:8080/"
        },
        "id": "-Uuvw0Ruw7fl",
        "outputId": "e906c1fa-6807-40bb-e392-d5307bcfcfe3"
      },
      "source": [
        "arrayB[-1]"
      ],
      "execution_count": null,
      "outputs": [
        {
          "output_type": "execute_result",
          "data": {
            "text/plain": [
              "19"
            ]
          },
          "metadata": {
            "tags": []
          },
          "execution_count": 43
        }
      ]
    },
    {
      "cell_type": "markdown",
      "metadata": {
        "id": "XxztzVv5xGZb"
      },
      "source": [
        "Podemos também concatenar os dois arrays dentro de um novo array."
      ]
    },
    {
      "cell_type": "markdown",
      "metadata": {
        "id": "53jspoeDxewP"
      },
      "source": [
        "#### Dentro de apenas uma linha"
      ]
    },
    {
      "cell_type": "code",
      "metadata": {
        "colab": {
          "base_uri": "https://localhost:8080/"
        },
        "id": "AsOjHKPmxBil",
        "outputId": "ac69eadb-2efe-4e6d-aec7-6ba8f8b6c659"
      },
      "source": [
        "c = np.concatenate([arrayA,arrayB])\n",
        "c"
      ],
      "execution_count": null,
      "outputs": [
        {
          "output_type": "execute_result",
          "data": {
            "text/plain": [
              "array([12, 23, 55, 42, 32, 44, 52, 26, 19])"
            ]
          },
          "metadata": {
            "tags": []
          },
          "execution_count": 44
        }
      ]
    },
    {
      "cell_type": "markdown",
      "metadata": {
        "id": "I_-e1GQXxjCH"
      },
      "source": [
        "#### Com duas ou mais linhas"
      ]
    },
    {
      "cell_type": "code",
      "metadata": {
        "colab": {
          "base_uri": "https://localhost:8080/"
        },
        "id": "QodjH1nOxN_C",
        "outputId": "3a646f22-fcad-4acf-9c38-411fd7e82375"
      },
      "source": [
        "c = np.concatenate([[arrayA],[arrayA]])\n",
        "c"
      ],
      "execution_count": null,
      "outputs": [
        {
          "output_type": "execute_result",
          "data": {
            "text/plain": [
              "array([[12, 23, 55, 42],\n",
              "       [12, 23, 55, 42]])"
            ]
          },
          "metadata": {
            "tags": []
          },
          "execution_count": 45
        }
      ]
    },
    {
      "cell_type": "markdown",
      "metadata": {
        "id": "QPRcIaRJyjfD"
      },
      "source": [
        "Algo interessante  é que você pode alterar os valores de cada elemento percorrendo o array."
      ]
    },
    {
      "cell_type": "code",
      "metadata": {
        "colab": {
          "base_uri": "https://localhost:8080/"
        },
        "id": "mOmpVIrVxvTB",
        "outputId": "0635862d-6a7f-47dd-8fb5-3c460df58557"
      },
      "source": [
        "arrayA[0:3] = 0\n",
        "arrayA"
      ],
      "execution_count": null,
      "outputs": [
        {
          "output_type": "execute_result",
          "data": {
            "text/plain": [
              "array([ 0,  0,  0, 42])"
            ]
          },
          "metadata": {
            "tags": []
          },
          "execution_count": 46
        }
      ]
    },
    {
      "cell_type": "markdown",
      "metadata": {
        "id": "JVruCsOyyvRb"
      },
      "source": [
        "Vamos aprender agora a trabalhar com indexação de arrays multidimensionais."
      ]
    },
    {
      "cell_type": "code",
      "metadata": {
        "colab": {
          "base_uri": "https://localhost:8080/"
        },
        "id": "3i-R6TyqyqY2",
        "outputId": "a548540b-a1d8-4047-dccc-15c8b1590a08"
      },
      "source": [
        "# Listando as linhas e colunas\n",
        "c[: , :]"
      ],
      "execution_count": null,
      "outputs": [
        {
          "output_type": "execute_result",
          "data": {
            "text/plain": [
              "array([[12, 23, 55, 42],\n",
              "       [12, 23, 55, 42]])"
            ]
          },
          "metadata": {
            "tags": []
          },
          "execution_count": 47
        }
      ]
    },
    {
      "cell_type": "code",
      "metadata": {
        "colab": {
          "base_uri": "https://localhost:8080/"
        },
        "id": "V9aE-4fDy5dq",
        "outputId": "b02875bc-6b90-4092-a467-c4f09c9f481f"
      },
      "source": [
        "# Listando apenas a primeira linha\n",
        "c[0]"
      ],
      "execution_count": null,
      "outputs": [
        {
          "output_type": "execute_result",
          "data": {
            "text/plain": [
              "array([12, 23, 55, 42])"
            ]
          },
          "metadata": {
            "tags": []
          },
          "execution_count": 48
        }
      ]
    },
    {
      "cell_type": "code",
      "metadata": {
        "colab": {
          "base_uri": "https://localhost:8080/"
        },
        "id": "Fy5FYMlVy-yz",
        "outputId": "23c58d67-fa32-465f-a0f5-30885d3f7517"
      },
      "source": [
        "# Listando apenas a segunda linha\n",
        "c[1]"
      ],
      "execution_count": null,
      "outputs": [
        {
          "output_type": "execute_result",
          "data": {
            "text/plain": [
              "array([12, 23, 55, 42])"
            ]
          },
          "metadata": {
            "tags": []
          },
          "execution_count": 49
        }
      ]
    },
    {
      "cell_type": "code",
      "metadata": {
        "colab": {
          "base_uri": "https://localhost:8080/"
        },
        "id": "lx0ldce4zAQ5",
        "outputId": "2e5a89d3-3b61-459e-d505-c5c31c650b38"
      },
      "source": [
        "# Listando apenas a primeira coluna\n",
        "c[: , 0]"
      ],
      "execution_count": null,
      "outputs": [
        {
          "output_type": "execute_result",
          "data": {
            "text/plain": [
              "array([12, 12])"
            ]
          },
          "metadata": {
            "tags": []
          },
          "execution_count": 50
        }
      ]
    },
    {
      "cell_type": "code",
      "metadata": {
        "colab": {
          "base_uri": "https://localhost:8080/"
        },
        "id": "Vks0iGcyzCqA",
        "outputId": "5535dc5a-a39a-4235-b4b7-bf6c73aff66d"
      },
      "source": [
        "# Listando apenas a última coluna\n",
        "c[: , -1]"
      ],
      "execution_count": null,
      "outputs": [
        {
          "output_type": "execute_result",
          "data": {
            "text/plain": [
              "array([42, 42])"
            ]
          },
          "metadata": {
            "tags": []
          },
          "execution_count": 51
        }
      ]
    },
    {
      "cell_type": "code",
      "metadata": {
        "colab": {
          "base_uri": "https://localhost:8080/"
        },
        "id": "DfgHZ-RYzDxh",
        "outputId": "fa096ec8-6efc-4c7b-c1ba-15148b725617"
      },
      "source": [
        "# Listando os elementos centrais\n",
        "c[0:3, 1:3 ]"
      ],
      "execution_count": null,
      "outputs": [
        {
          "output_type": "execute_result",
          "data": {
            "text/plain": [
              "array([[23, 55],\n",
              "       [23, 55]])"
            ]
          },
          "metadata": {
            "tags": []
          },
          "execution_count": 52
        }
      ]
    },
    {
      "cell_type": "markdown",
      "metadata": {
        "id": "9DkymFFn1s7P"
      },
      "source": [
        "### Ordenando arrays\n",
        "Podemos reorganizar o array ou matriz em ordem crescente com o sort.  \n",
        "Lembrando que ele irá organizar por linha. "
      ]
    },
    {
      "cell_type": "code",
      "metadata": {
        "colab": {
          "base_uri": "https://localhost:8080/"
        },
        "id": "_8ssCZzSzFM_",
        "outputId": "ae9ba871-c69b-4ebc-bf81-9728519127a2"
      },
      "source": [
        "matrixA.sort(axis = 1)\n",
        "matrixA"
      ],
      "execution_count": null,
      "outputs": [
        {
          "output_type": "execute_result",
          "data": {
            "text/plain": [
              "matrix([[ 2,  4,  6,  8],\n",
              "        [ 1,  3,  5,  7],\n",
              "        [ 9, 11, 13, 15],\n",
              "        [12, 14, 16, 18]])"
            ]
          },
          "metadata": {
            "tags": []
          },
          "execution_count": 53
        }
      ]
    },
    {
      "cell_type": "markdown",
      "metadata": {
        "id": "CK8qqVuAgq8N"
      },
      "source": [
        "### Transformando matriz em lista\n",
        "Existe uma maneira simples de transformar matrizes em lista:"
      ]
    },
    {
      "cell_type": "code",
      "metadata": {
        "colab": {
          "base_uri": "https://localhost:8080/"
        },
        "id": "aVsZJtFRhLrk",
        "outputId": "0c3804ab-73ec-4011-d5ab-e12e209ada21"
      },
      "source": [
        "matrixA"
      ],
      "execution_count": null,
      "outputs": [
        {
          "output_type": "execute_result",
          "data": {
            "text/plain": [
              "matrix([[ 2,  4,  6,  8],\n",
              "        [ 1,  3,  5,  7],\n",
              "        [ 9, 11, 13, 15],\n",
              "        [12, 14, 16, 18]])"
            ]
          },
          "metadata": {
            "tags": []
          },
          "execution_count": 54
        }
      ]
    },
    {
      "cell_type": "code",
      "metadata": {
        "id": "n-Kmbkkj1El3",
        "colab": {
          "base_uri": "https://localhost:8080/"
        },
        "outputId": "c8bdc890-a85f-4aa5-d39b-99ff2581447c"
      },
      "source": [
        "matrixA = matrixA.ravel()\n",
        "matrixA"
      ],
      "execution_count": null,
      "outputs": [
        {
          "output_type": "execute_result",
          "data": {
            "text/plain": [
              "matrix([[ 2,  4,  6,  8,  1,  3,  5,  7,  9, 11, 13, 15, 12, 14, 16, 18]])"
            ]
          },
          "metadata": {
            "tags": []
          },
          "execution_count": 55
        }
      ]
    },
    {
      "cell_type": "markdown",
      "metadata": {
        "id": "10yK-5fHiVkF"
      },
      "source": [
        "### Transformando lista em matriz\n",
        "E listas em tabelas:"
      ]
    },
    {
      "cell_type": "code",
      "metadata": {
        "colab": {
          "base_uri": "https://localhost:8080/"
        },
        "id": "A3e4QeWyh_qB",
        "outputId": "bb61e46b-34c7-4fda-8b66-50d95da447dc"
      },
      "source": [
        "matrixA = matrixA.reshape(4,4)\n",
        "matrixA"
      ],
      "execution_count": null,
      "outputs": [
        {
          "output_type": "execute_result",
          "data": {
            "text/plain": [
              "matrix([[ 2,  4,  6,  8],\n",
              "        [ 1,  3,  5,  7],\n",
              "        [ 9, 11, 13, 15],\n",
              "        [12, 14, 16, 18]])"
            ]
          },
          "metadata": {
            "tags": []
          },
          "execution_count": 56
        }
      ]
    },
    {
      "cell_type": "markdown",
      "metadata": {
        "id": "ZpcHaVLpkDHw"
      },
      "source": [
        "### Realizando buscas com any e all\n",
        "Podemos utilizar o any e all para realizar buscas por valores dentro de uma lista ou matriz.  \n",
        "Any: Usado para realizar buscas por um único valor(Retorna true quando encontrado).  \n",
        "All: Para buscas por todos os valores(Retorna true quando todos os valores possuem uma propriedade específica). \n"
      ]
    },
    {
      "cell_type": "code",
      "metadata": {
        "colab": {
          "base_uri": "https://localhost:8080/"
        },
        "id": "gKmNsyiMiRfP",
        "outputId": "be680058-6d62-4b05-d24b-f9e37cdc576b"
      },
      "source": [
        "# Dentro de matrixA existe um elemento com valor 14?\n",
        "np.any(matrixA == 14)\n"
      ],
      "execution_count": null,
      "outputs": [
        {
          "output_type": "execute_result",
          "data": {
            "text/plain": [
              "True"
            ]
          },
          "metadata": {
            "tags": []
          },
          "execution_count": 57
        }
      ]
    },
    {
      "cell_type": "code",
      "metadata": {
        "colab": {
          "base_uri": "https://localhost:8080/"
        },
        "id": "PKtsb_sYk2gY",
        "outputId": "33574f9a-e4ca-4a44-f81d-0d206a7a4cda"
      },
      "source": [
        "# Todos os valores de matrixA são divisíveis por 2?\n",
        "np.all((matrixA % 2) == 0)"
      ],
      "execution_count": null,
      "outputs": [
        {
          "output_type": "execute_result",
          "data": {
            "text/plain": [
              "False"
            ]
          },
          "metadata": {
            "tags": []
          },
          "execution_count": 58
        }
      ]
    },
    {
      "cell_type": "markdown",
      "metadata": {
        "id": "_loHD7LI3zF4"
      },
      "source": [
        "### Cópias\n",
        "Não basta apenas referenciar, devemos realizar uma cópia para que uma variável possa realmente possuir o valor de outra variável, caso contrário, será apenas uma referência."
      ]
    },
    {
      "cell_type": "code",
      "metadata": {
        "colab": {
          "base_uri": "https://localhost:8080/"
        },
        "id": "d_cT6_FrmV0m",
        "outputId": "3733c311-c017-4a9a-a284-47fe72f80cc3"
      },
      "source": [
        "# Criando variável a\n",
        "a = np.array([0,1,2,3])\n",
        "a"
      ],
      "execution_count": null,
      "outputs": [
        {
          "output_type": "execute_result",
          "data": {
            "text/plain": [
              "array([0, 1, 2, 3])"
            ]
          },
          "metadata": {
            "tags": []
          },
          "execution_count": 59
        }
      ]
    },
    {
      "cell_type": "code",
      "metadata": {
        "colab": {
          "base_uri": "https://localhost:8080/"
        },
        "id": "W8L6ygGL4Owx",
        "outputId": "d3e7ac8c-08f7-4ae1-a74d-ae8ef85dd9f5"
      },
      "source": [
        "# Vamos criar uma cópia\n",
        "b = a.copy()\n",
        "b"
      ],
      "execution_count": null,
      "outputs": [
        {
          "output_type": "execute_result",
          "data": {
            "text/plain": [
              "array([0, 1, 2, 3])"
            ]
          },
          "metadata": {
            "tags": []
          },
          "execution_count": 60
        }
      ]
    },
    {
      "cell_type": "markdown",
      "metadata": {
        "id": "c-vG44VA9qBi"
      },
      "source": [
        "Você deve ter percebido o quanto foi importante ter entendido a base de matrizes e arrays.   \n",
        "Vamos facilitar ainda mais o processo.\n",
        "\n",
        "### Dot product\n",
        "A soma dos produtos de duas matrizes.\n",
        "```\n",
        "a = [2, 2, 5]\n",
        "b = [2, 3, 1]\n",
        "a * b = c\n",
        "c = [4, 6, 5]\n",
        "dot = 4 + 6 + 5 -> 15\n",
        "\n",
        "```"
      ]
    },
    {
      "cell_type": "code",
      "metadata": {
        "colab": {
          "base_uri": "https://localhost:8080/"
        },
        "id": "a4cIXuTK5ydn",
        "outputId": "8acfc935-ba7f-4243-f6f0-574d66c790b5"
      },
      "source": [
        "a"
      ],
      "execution_count": null,
      "outputs": [
        {
          "output_type": "execute_result",
          "data": {
            "text/plain": [
              "array([0, 1, 2, 3])"
            ]
          },
          "metadata": {
            "tags": []
          },
          "execution_count": 61
        }
      ]
    },
    {
      "cell_type": "code",
      "metadata": {
        "colab": {
          "base_uri": "https://localhost:8080/"
        },
        "id": "6gjT25Am-AHb",
        "outputId": "d8f70503-6fac-4a00-cb68-dcda6de7996a"
      },
      "source": [
        "b"
      ],
      "execution_count": null,
      "outputs": [
        {
          "output_type": "execute_result",
          "data": {
            "text/plain": [
              "array([0, 1, 2, 3])"
            ]
          },
          "metadata": {
            "tags": []
          },
          "execution_count": 62
        }
      ]
    },
    {
      "cell_type": "code",
      "metadata": {
        "colab": {
          "base_uri": "https://localhost:8080/"
        },
        "id": "b3oQOKVS-Ak0",
        "outputId": "962054a1-bd8a-4041-f77c-923b0200ee4e"
      },
      "source": [
        "np.dot(a,b)"
      ],
      "execution_count": null,
      "outputs": [
        {
          "output_type": "execute_result",
          "data": {
            "text/plain": [
              "14"
            ]
          },
          "metadata": {
            "tags": []
          },
          "execution_count": 63
        }
      ]
    },
    {
      "cell_type": "markdown",
      "metadata": {
        "id": "hCMehQzZ_yeg"
      },
      "source": [
        "### Matriz transposta\n",
        "Troca das linhas de uma matriz pelas suas colunas."
      ]
    },
    {
      "cell_type": "code",
      "metadata": {
        "colab": {
          "base_uri": "https://localhost:8080/"
        },
        "id": "v9FEyaLe-FSd",
        "outputId": "6602f716-b9dc-43c3-bbdd-ff2e76deb8cb"
      },
      "source": [
        "matrixA"
      ],
      "execution_count": null,
      "outputs": [
        {
          "output_type": "execute_result",
          "data": {
            "text/plain": [
              "matrix([[ 2,  4,  6,  8],\n",
              "        [ 1,  3,  5,  7],\n",
              "        [ 9, 11, 13, 15],\n",
              "        [12, 14, 16, 18]])"
            ]
          },
          "metadata": {
            "tags": []
          },
          "execution_count": 64
        }
      ]
    },
    {
      "cell_type": "code",
      "metadata": {
        "colab": {
          "base_uri": "https://localhost:8080/"
        },
        "id": "JMupMuyAAZAS",
        "outputId": "abb195f2-d694-48c9-f17f-1ea05f598de0"
      },
      "source": [
        "np.transpose(matrixA)"
      ],
      "execution_count": null,
      "outputs": [
        {
          "output_type": "execute_result",
          "data": {
            "text/plain": [
              "matrix([[ 2,  1,  9, 12],\n",
              "        [ 4,  3, 11, 14],\n",
              "        [ 6,  5, 13, 16],\n",
              "        [ 8,  7, 15, 18]])"
            ]
          },
          "metadata": {
            "tags": []
          },
          "execution_count": 65
        }
      ]
    },
    {
      "cell_type": "markdown",
      "metadata": {
        "id": "uHdX3z9lAysw"
      },
      "source": [
        "### Broadcasting\n",
        "É como chamamos a soma de uma matriz com a sua transposta."
      ]
    },
    {
      "cell_type": "code",
      "metadata": {
        "colab": {
          "base_uri": "https://localhost:8080/"
        },
        "id": "l2Dd9rNMAhsT",
        "outputId": "4f3853c7-5591-4233-94ee-ea69ce9c5f48"
      },
      "source": [
        "np.transpose(matrixA) + matrixA"
      ],
      "execution_count": null,
      "outputs": [
        {
          "output_type": "execute_result",
          "data": {
            "text/plain": [
              "matrix([[ 4,  5, 15, 20],\n",
              "        [ 5,  6, 16, 21],\n",
              "        [15, 16, 26, 31],\n",
              "        [20, 21, 31, 36]])"
            ]
          },
          "metadata": {
            "tags": []
          },
          "execution_count": 66
        }
      ]
    },
    {
      "cell_type": "markdown",
      "metadata": {
        "id": "UrROwqLmt2hj"
      },
      "source": [
        "### Tipagem de dados\n",
        "É possível passar por parâmetro o tipo de cada array ou matriz."
      ]
    },
    {
      "cell_type": "code",
      "metadata": {
        "colab": {
          "base_uri": "https://localhost:8080/"
        },
        "id": "z7hoCJDsA8GL",
        "outputId": "8a1dcaae-45bf-4459-ae8d-506a899ea997"
      },
      "source": [
        "# Array com valores do tipo float por parâmetro\n",
        "array = np.array([12, -23, 20.12, 52], dtype = 'float')\n",
        "array"
      ],
      "execution_count": null,
      "outputs": [
        {
          "output_type": "execute_result",
          "data": {
            "text/plain": [
              "array([ 12.  , -23.  ,  20.12,  52.  ])"
            ]
          },
          "metadata": {
            "tags": []
          },
          "execution_count": 67
        }
      ]
    },
    {
      "cell_type": "code",
      "metadata": {
        "colab": {
          "base_uri": "https://localhost:8080/"
        },
        "id": "6eVMasp5uodv",
        "outputId": "f388d59b-a961-43a4-9d19-52137ce2b0e9"
      },
      "source": [
        "# Verifica o tipo do array que deve retornar 'float'\n",
        "array.dtype"
      ],
      "execution_count": null,
      "outputs": [
        {
          "output_type": "execute_result",
          "data": {
            "text/plain": [
              "dtype('float64')"
            ]
          },
          "metadata": {
            "tags": []
          },
          "execution_count": 68
        }
      ]
    },
    {
      "cell_type": "code",
      "metadata": {
        "colab": {
          "base_uri": "https://localhost:8080/"
        },
        "id": "zeOR4Mswu2bF",
        "outputId": "a7d83705-c807-4967-e9dd-8a4ebbf0eea7"
      },
      "source": [
        "# Array com valores do tipo int por parâmetro\n",
        "array = np.array([12, -23, 20.12, 52], dtype = 'int')\n",
        "array"
      ],
      "execution_count": null,
      "outputs": [
        {
          "output_type": "execute_result",
          "data": {
            "text/plain": [
              "array([ 12, -23,  20,  52])"
            ]
          },
          "metadata": {
            "tags": []
          },
          "execution_count": 69
        }
      ]
    },
    {
      "cell_type": "code",
      "metadata": {
        "colab": {
          "base_uri": "https://localhost:8080/"
        },
        "id": "asqcUy3avVp_",
        "outputId": "e6e79de0-bd0e-4ab5-90a6-92a4c08e8150"
      },
      "source": [
        "# Verifica o tipo do array que deve retornar 'int'\n",
        "array.dtype"
      ],
      "execution_count": null,
      "outputs": [
        {
          "output_type": "execute_result",
          "data": {
            "text/plain": [
              "dtype('int64')"
            ]
          },
          "metadata": {
            "tags": []
          },
          "execution_count": 70
        }
      ]
    },
    {
      "cell_type": "markdown",
      "metadata": {
        "id": "uUy_KSRyxWlI"
      },
      "source": [
        "### O método arange\n",
        "Usamos o arange para criar arrays com auto incremento. Passando por parâmetro os devidos valores, temos como resultado um array construído por estruturas de repetição."
      ]
    },
    {
      "cell_type": "markdown",
      "metadata": {
        "id": "KbQuzmLxxc6r"
      },
      "source": [
        "Array com 10 valores de 0 a 9:"
      ]
    },
    {
      "cell_type": "code",
      "metadata": {
        "colab": {
          "base_uri": "https://localhost:8080/"
        },
        "id": "VicDnHMHvY0r",
        "outputId": "ce7affd5-091b-41a1-d6e0-76dab0563c05"
      },
      "source": [
        "array = np.arange(10)\n",
        "array"
      ],
      "execution_count": null,
      "outputs": [
        {
          "output_type": "execute_result",
          "data": {
            "text/plain": [
              "array([0, 1, 2, 3, 4, 5, 6, 7, 8, 9])"
            ]
          },
          "metadata": {
            "tags": []
          },
          "execution_count": 71
        }
      ]
    },
    {
      "cell_type": "markdown",
      "metadata": {
        "id": "_lPaD1xmx4YP"
      },
      "source": [
        "Array de 0 a 50 com intervalos a cada 5:"
      ]
    },
    {
      "cell_type": "code",
      "metadata": {
        "colab": {
          "base_uri": "https://localhost:8080/"
        },
        "id": "Kk5lVmTBxoqQ",
        "outputId": "dc33b21e-7269-4201-e235-5a38d99857f6"
      },
      "source": [
        "array = np.arange(0, 51, 5)\n",
        "array"
      ],
      "execution_count": null,
      "outputs": [
        {
          "output_type": "execute_result",
          "data": {
            "text/plain": [
              "array([ 0,  5, 10, 15, 20, 25, 30, 35, 40, 45, 50])"
            ]
          },
          "metadata": {
            "tags": []
          },
          "execution_count": 72
        }
      ]
    },
    {
      "cell_type": "markdown",
      "metadata": {
        "id": "tEF6XjS9yvVs"
      },
      "source": [
        "### Estrutura de dados com linspace\n",
        "Responsável por distribuir os valores de um array em um determinado intervalo.  \n",
        "\n",
        "Exemplo: Temos o intervalo entre 0 e 10, precisamos de 20 valores entre esse intervalo. O linspace realizará a distribuição regular entre cada elemento entre o intervalo."
      ]
    },
    {
      "cell_type": "markdown",
      "metadata": {
        "id": "mFeNcdNezUcB"
      },
      "source": [
        "De 0 a 10 com o total de 20 valores:"
      ]
    },
    {
      "cell_type": "code",
      "metadata": {
        "colab": {
          "base_uri": "https://localhost:8080/"
        },
        "id": "Ovp_QNsoyQrl",
        "outputId": "40077bbb-80c7-4d9e-930f-8aa076ac3735"
      },
      "source": [
        "array = np.linspace(0, 10, 20)\n",
        "array"
      ],
      "execution_count": null,
      "outputs": [
        {
          "output_type": "execute_result",
          "data": {
            "text/plain": [
              "array([ 0.        ,  0.52631579,  1.05263158,  1.57894737,  2.10526316,\n",
              "        2.63157895,  3.15789474,  3.68421053,  4.21052632,  4.73684211,\n",
              "        5.26315789,  5.78947368,  6.31578947,  6.84210526,  7.36842105,\n",
              "        7.89473684,  8.42105263,  8.94736842,  9.47368421, 10.        ])"
            ]
          },
          "metadata": {
            "tags": []
          },
          "execution_count": 73
        }
      ]
    },
    {
      "cell_type": "markdown",
      "metadata": {
        "id": "ThfXtBumzkmh"
      },
      "source": [
        "### Estruturando arrays\n",
        "É possível criar arrays com valores únicos de um determinado tamanho.   \n",
        "Muito usado em modelos de machine learn e IA."
      ]
    },
    {
      "cell_type": "markdown",
      "metadata": {
        "id": "HWvjkyGTzyLg"
      },
      "source": [
        "#### Zeros"
      ]
    },
    {
      "cell_type": "code",
      "metadata": {
        "colab": {
          "base_uri": "https://localhost:8080/"
        },
        "id": "9QDu8DTFzckE",
        "outputId": "c40b1d84-7be7-411a-e8dd-4a45c2195599"
      },
      "source": [
        "# Array com valores 0, com 4 linhas e  4 colunas\n",
        "array = np.zeros((4,4))\n",
        "array"
      ],
      "execution_count": null,
      "outputs": [
        {
          "output_type": "execute_result",
          "data": {
            "text/plain": [
              "array([[0., 0., 0., 0.],\n",
              "       [0., 0., 0., 0.],\n",
              "       [0., 0., 0., 0.],\n",
              "       [0., 0., 0., 0.]])"
            ]
          },
          "metadata": {
            "tags": []
          },
          "execution_count": 74
        }
      ]
    },
    {
      "cell_type": "markdown",
      "metadata": {
        "id": "WifqhfsA0JMn"
      },
      "source": [
        "#### Ones"
      ]
    },
    {
      "cell_type": "code",
      "metadata": {
        "id": "s1uUGkFB0Cy1",
        "colab": {
          "base_uri": "https://localhost:8080/"
        },
        "outputId": "1ac89999-9c31-41ef-e25c-be8daf306e09"
      },
      "source": [
        "# Array com valores 1, com 4 linhas e 3 colunas\n",
        "array = np.ones((4,3))\n",
        "array"
      ],
      "execution_count": null,
      "outputs": [
        {
          "output_type": "execute_result",
          "data": {
            "text/plain": [
              "array([[1., 1., 1.],\n",
              "       [1., 1., 1.],\n",
              "       [1., 1., 1.],\n",
              "       [1., 1., 1.]])"
            ]
          },
          "metadata": {
            "tags": []
          },
          "execution_count": 75
        }
      ]
    },
    {
      "cell_type": "markdown",
      "metadata": {
        "id": "af_YfGg50m1K"
      },
      "source": [
        "#### Eye\n",
        "Podemos utilizar o 'eye' para criar matrizes com diagonais do tipo identidade."
      ]
    },
    {
      "cell_type": "code",
      "metadata": {
        "colab": {
          "base_uri": "https://localhost:8080/"
        },
        "id": "nlzp15fP0rgM",
        "outputId": "cba00530-001f-44da-f3bd-8142671ff662"
      },
      "source": [
        "# Array de tamanho L X C do tipo identity\n",
        "array = np.eye(4)\n",
        "array"
      ],
      "execution_count": null,
      "outputs": [
        {
          "output_type": "execute_result",
          "data": {
            "text/plain": [
              "array([[1., 0., 0., 0.],\n",
              "       [0., 1., 0., 0.],\n",
              "       [0., 0., 1., 0.],\n",
              "       [0., 0., 0., 1.]])"
            ]
          },
          "metadata": {
            "tags": []
          },
          "execution_count": 76
        }
      ]
    },
    {
      "cell_type": "markdown",
      "metadata": {
        "id": "DrwOF4qG1MQF"
      },
      "source": [
        "#### Diag\n",
        "Podemos passar os valores da diagonal.\n",
        "\n",
        "O tamanho do array é proporcional a quantidade de itens na diagonal."
      ]
    },
    {
      "cell_type": "code",
      "metadata": {
        "colab": {
          "base_uri": "https://localhost:8080/"
        },
        "id": "tI0ABokI05vo",
        "outputId": "5e7933ff-a70d-48be-be59-b2319aba9e1c"
      },
      "source": [
        "array = np.diag((6,7,8,9))\n",
        "array"
      ],
      "execution_count": null,
      "outputs": [
        {
          "output_type": "execute_result",
          "data": {
            "text/plain": [
              "array([[6, 0, 0, 0],\n",
              "       [0, 7, 0, 0],\n",
              "       [0, 0, 8, 0],\n",
              "       [0, 0, 0, 9]])"
            ]
          },
          "metadata": {
            "tags": []
          },
          "execution_count": 77
        }
      ]
    },
    {
      "cell_type": "markdown",
      "metadata": {
        "id": "6vsMyiBd1ju2"
      },
      "source": [
        "#### Tile\n",
        "Você passa os valores de uma matriz e poderá multiplicá-los dentro da mesma linha."
      ]
    },
    {
      "cell_type": "code",
      "metadata": {
        "colab": {
          "base_uri": "https://localhost:8080/"
        },
        "id": "orSizj9B1Z8o",
        "outputId": "d53e886c-52a8-49c4-cf7f-683b7b137461"
      },
      "source": [
        "array = np.tile(np.array([[0,1],[2,3], [4,5], [6,7]]), (2))\n",
        "array"
      ],
      "execution_count": null,
      "outputs": [
        {
          "output_type": "execute_result",
          "data": {
            "text/plain": [
              "array([[0, 1, 0, 1],\n",
              "       [2, 3, 2, 3],\n",
              "       [4, 5, 4, 5],\n",
              "       [6, 7, 6, 7]])"
            ]
          },
          "metadata": {
            "tags": []
          },
          "execution_count": 78
        }
      ]
    },
    {
      "cell_type": "code",
      "metadata": {
        "colab": {
          "base_uri": "https://localhost:8080/"
        },
        "id": "HdRGVZ0o2nCV",
        "outputId": "efc595f3-9202-4d74-8f0c-99e3bfeff5fc"
      },
      "source": [
        "array = np.tile(np.array([[0,1],[2,3], [4,5], [6,7]]), (2,3))\n",
        "array"
      ],
      "execution_count": null,
      "outputs": [
        {
          "output_type": "execute_result",
          "data": {
            "text/plain": [
              "array([[0, 1, 0, 1, 0, 1],\n",
              "       [2, 3, 2, 3, 2, 3],\n",
              "       [4, 5, 4, 5, 4, 5],\n",
              "       [6, 7, 6, 7, 6, 7],\n",
              "       [0, 1, 0, 1, 0, 1],\n",
              "       [2, 3, 2, 3, 2, 3],\n",
              "       [4, 5, 4, 5, 4, 5],\n",
              "       [6, 7, 6, 7, 6, 7]])"
            ]
          },
          "metadata": {
            "tags": []
          },
          "execution_count": 79
        }
      ]
    },
    {
      "cell_type": "markdown",
      "metadata": {
        "id": "3AiHd5q-gYMM"
      },
      "source": [
        "## Conclusão\n",
        "Apesar de muito importante, álgebra linear é fácil e simples. É verídico que ela esta presente em diversos setores da tecnologia e matemática. Na computação é muito comum o uso de matrizes e vetores. A tela do seu celular ou computador é basicamente formada por matrizes. Outro exemplo que posso apresentar é a inteligência artificial e/ou machine learning. Por isso, torna-se quase que indispensável o entendimento do mesmo."
      ]
    },
    {
      "cell_type": "markdown",
      "metadata": {
        "id": "UBRwGdrw5yjZ"
      },
      "source": [
        "**Fim!**\n",
        "\n",
        "**Por enquanto... :)**"
      ]
    }
  ]
}